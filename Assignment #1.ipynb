{
 "cells": [
  {
   "cell_type": "code",
   "execution_count": 10,
   "id": "ae89e8f6",
   "metadata": {},
   "outputs": [
    {
     "data": {
      "text/plain": [
       "11"
      ]
     },
     "execution_count": 10,
     "metadata": {},
     "output_type": "execute_result"
    }
   ],
   "source": [
    "#exercise 1\n",
    "greeting = \"Welcome to Python\"\n",
    "greeting.index(\"Python\")"
   ]
  },
  {
   "cell_type": "code",
   "execution_count": 9,
   "id": "9c1f02a0",
   "metadata": {},
   "outputs": [
    {
     "data": {
      "text/plain": [
       "'Python'"
      ]
     },
     "execution_count": 9,
     "metadata": {},
     "output_type": "execute_result"
    }
   ],
   "source": [
    "greeting[11: ]"
   ]
  },
  {
   "cell_type": "code",
   "execution_count": 12,
   "id": "23b4e089",
   "metadata": {},
   "outputs": [
    {
     "data": {
      "text/plain": [
       "['I', 'Love', 'python']"
      ]
     },
     "execution_count": 12,
     "metadata": {},
     "output_type": "execute_result"
    }
   ],
   "source": [
    "#exercise 2\n",
    "message = [\"I\", \"like\", \"python\"]\n",
    "message[1] = \"Love\"\n",
    "message"
   ]
  },
  {
   "cell_type": "code",
   "execution_count": 13,
   "id": "1ec3bd61",
   "metadata": {},
   "outputs": [
    {
     "name": "stdout",
     "output_type": "stream",
     "text": [
      "My name is Fule Chi B. I am 30 years old.\n"
     ]
    }
   ],
   "source": [
    "#exercise 3\n",
    "name = \"Fule Chi B.\"\n",
    "age = 30\n",
    "print(\"My name is\", name, \"I am\", age, \"years old.\")"
   ]
  },
  {
   "cell_type": "code",
   "execution_count": 15,
   "id": "81b3f609",
   "metadata": {},
   "outputs": [
    {
     "data": {
      "text/plain": [
       "['I', 'am', 'here']"
      ]
     },
     "execution_count": 15,
     "metadata": {},
     "output_type": "execute_result"
    }
   ],
   "source": [
    "#exercise 4\n",
    "words = ['I', 'am', 'here']\n",
    "words"
   ]
  },
  {
   "cell_type": "code",
   "execution_count": 16,
   "id": "327aef46",
   "metadata": {},
   "outputs": [],
   "source": [
    "words.reverse()"
   ]
  },
  {
   "cell_type": "code",
   "execution_count": 18,
   "id": "f6d635a7",
   "metadata": {},
   "outputs": [
    {
     "data": {
      "text/plain": [
       "['here', 'am', 'I']"
      ]
     },
     "execution_count": 18,
     "metadata": {},
     "output_type": "execute_result"
    }
   ],
   "source": [
    "words"
   ]
  },
  {
   "cell_type": "code",
   "execution_count": 22,
   "id": "2e176b15",
   "metadata": {},
   "outputs": [
    {
     "data": {
      "text/plain": [
       "'here am I'"
      ]
     },
     "execution_count": 22,
     "metadata": {},
     "output_type": "execute_result"
    }
   ],
   "source": [
    "#Method 2.\n",
    "words = \"I am here\"\n",
    "words = words.split()\n",
    "words.reverse()\n",
    "\" \".join(words)"
   ]
  },
  {
   "cell_type": "code",
   "execution_count": null,
   "id": "0ef90bbd",
   "metadata": {},
   "outputs": [],
   "source": [
    "#exercise 5.\n",
    "#string data stores only one value per variable eg. words = \"I am here\"; \n",
    "    there are functions in lists that can not be found in strings, and \n",
    "    strings are immutable, that is, can not be changed \n",
    "#lists are used to store multiple values in a single variable eg sentence = [\"I am here\", \"Python\", \"class\"]"
   ]
  }
 ],
 "metadata": {
  "kernelspec": {
   "display_name": "Python 3 (ipykernel)",
   "language": "python",
   "name": "python3"
  },
  "language_info": {
   "codemirror_mode": {
    "name": "ipython",
    "version": 3
   },
   "file_extension": ".py",
   "mimetype": "text/x-python",
   "name": "python",
   "nbconvert_exporter": "python",
   "pygments_lexer": "ipython3",
   "version": "3.9.12"
  }
 },
 "nbformat": 4,
 "nbformat_minor": 5
}
