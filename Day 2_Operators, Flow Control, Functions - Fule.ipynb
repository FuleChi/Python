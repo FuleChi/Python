{
 "cells": [
  {
   "cell_type": "code",
   "execution_count": 1,
   "id": "22aa0b97",
   "metadata": {},
   "outputs": [
    {
     "name": "stdout",
     "output_type": "stream",
     "text": [
      "I am Fule. I am 30 years old\n"
     ]
    }
   ],
   "source": [
    "#Printing out output\n",
    "first_name = \"Fule\"\n",
    "age = 30\n",
    "print(f'I am {first_name}. I am {age} years old')"
   ]
  },
  {
   "cell_type": "code",
   "execution_count": 2,
   "id": "1fce7e3f",
   "metadata": {},
   "outputs": [
    {
     "name": "stdout",
     "output_type": "stream",
     "text": [
      "I am Fule. I am 30 years old\n"
     ]
    }
   ],
   "source": [
    "print('I am %s. I am %d years old' %(first_name, age))"
   ]
  },
  {
   "cell_type": "code",
   "execution_count": 3,
   "id": "391f571c",
   "metadata": {},
   "outputs": [
    {
     "name": "stdout",
     "output_type": "stream",
     "text": [
      "I am Fule. I am 30 years old\n"
     ]
    }
   ],
   "source": [
    "print('I am {}. I am {} years old'.format(first_name, age))"
   ]
  },
  {
   "cell_type": "code",
   "execution_count": 4,
   "id": "7b960aa3",
   "metadata": {},
   "outputs": [
    {
     "data": {
      "text/plain": [
       "125"
      ]
     },
     "execution_count": 4,
     "metadata": {},
     "output_type": "execute_result"
    }
   ],
   "source": [
    "#Arithmetic Operators\n",
    "x = 5\n",
    "y = 3\n",
    "\n",
    "x + y\n",
    "x - y\n",
    "x / y\n",
    "x * y\n",
    "x % y  #Modulus: the remainder after dividing 2 numbers\n",
    "x // y #Floor division: the whole number after dividing 2 numbers\n",
    "x ** y #exponent"
   ]
  },
  {
   "cell_type": "code",
   "execution_count": 5,
   "id": "88a44d7a",
   "metadata": {},
   "outputs": [
    {
     "data": {
      "text/plain": [
       "True"
      ]
     },
     "execution_count": 5,
     "metadata": {},
     "output_type": "execute_result"
    }
   ],
   "source": [
    "#Comparison Operators\n",
    "x > y\n",
    "x < y\n",
    "x >= y\n",
    "x <= y #less than or equal to\n",
    "x == y #equal to\n",
    "x != y #not equal to"
   ]
  },
  {
   "cell_type": "code",
   "execution_count": 6,
   "id": "9c531a24",
   "metadata": {},
   "outputs": [
    {
     "data": {
      "text/plain": [
       "8"
      ]
     },
     "execution_count": 6,
     "metadata": {},
     "output_type": "execute_result"
    }
   ],
   "source": [
    "#Assignment Operators\n",
    "x = 5\n",
    "y = 3\n",
    "x += y #Assignment: add x to y and replace x with the new value, while maintaining the y value (x=x+y)\n",
    "        #Procedure: write varibale on the left (x), deduct assignment sign and write down what is left (x+y)\n",
    "x"
   ]
  },
  {
   "cell_type": "code",
   "execution_count": 7,
   "id": "695199fa",
   "metadata": {},
   "outputs": [
    {
     "data": {
      "text/plain": [
       "3"
      ]
     },
     "execution_count": 7,
     "metadata": {},
     "output_type": "execute_result"
    }
   ],
   "source": [
    "a = 5\n",
    "b = 3\n",
    "a =+ b\n",
    "a"
   ]
  },
  {
   "cell_type": "code",
   "execution_count": 8,
   "id": "7a8a4f60",
   "metadata": {},
   "outputs": [
    {
     "data": {
      "text/plain": [
       "7"
      ]
     },
     "execution_count": 8,
     "metadata": {},
     "output_type": "execute_result"
    }
   ],
   "source": [
    "num1 = 10\n",
    "num2 = -3\n",
    "num1 += num2 #num1=num1+num2\n",
    "num1        #(num1_new)"
   ]
  },
  {
   "cell_type": "code",
   "execution_count": 9,
   "id": "0d103365",
   "metadata": {},
   "outputs": [
    {
     "data": {
      "text/plain": [
       "10"
      ]
     },
     "execution_count": 9,
     "metadata": {},
     "output_type": "execute_result"
    }
   ],
   "source": [
    "num1 -= num2 #num1=num1_new - num2\n",
    "num1"
   ]
  },
  {
   "cell_type": "code",
   "execution_count": 10,
   "id": "8e3f541f",
   "metadata": {},
   "outputs": [
    {
     "data": {
      "text/plain": [
       "False"
      ]
     },
     "execution_count": 10,
     "metadata": {},
     "output_type": "execute_result"
    }
   ],
   "source": [
    "#Logical Operators\n",
    "(5 > 3) and (3 > 4)  #both conditions must be met"
   ]
  },
  {
   "cell_type": "code",
   "execution_count": 11,
   "id": "4323e2ce",
   "metadata": {},
   "outputs": [
    {
     "data": {
      "text/plain": [
       "True"
      ]
     },
     "execution_count": 11,
     "metadata": {},
     "output_type": "execute_result"
    }
   ],
   "source": [
    "(4 > 5) or (3 > 1)  #at least 1 condition must be met"
   ]
  },
  {
   "cell_type": "code",
   "execution_count": 12,
   "id": "f1a70922",
   "metadata": {},
   "outputs": [
    {
     "data": {
      "text/plain": [
       "False"
      ]
     },
     "execution_count": 12,
     "metadata": {},
     "output_type": "execute_result"
    }
   ],
   "source": [
    "not((3 > 2) and (4 > 1))  #gives the opposite of the answer"
   ]
  },
  {
   "cell_type": "code",
   "execution_count": 13,
   "id": "33f7d184",
   "metadata": {},
   "outputs": [
    {
     "data": {
      "text/plain": [
       "True"
      ]
     },
     "execution_count": 13,
     "metadata": {},
     "output_type": "execute_result"
    }
   ],
   "source": [
    "#Membership Operators\n",
    "numbers = [1,2,3,4,5]\n",
    "3 in numbers"
   ]
  },
  {
   "cell_type": "code",
   "execution_count": 14,
   "id": "551b5377",
   "metadata": {},
   "outputs": [
    {
     "data": {
      "text/plain": [
       "False"
      ]
     },
     "execution_count": 14,
     "metadata": {},
     "output_type": "execute_result"
    }
   ],
   "source": [
    "13 in numbers"
   ]
  },
  {
   "cell_type": "code",
   "execution_count": 15,
   "id": "aa5a6b7e",
   "metadata": {},
   "outputs": [
    {
     "name": "stdout",
     "output_type": "stream",
     "text": [
      "Not eligible\n"
     ]
    }
   ],
   "source": [
    "#Control Flow: Conditions\n",
    "\n",
    "age = 17\n",
    "if age >= 18:\n",
    "    print(\"You can vote\")\n",
    "else:\n",
    "    print(\"Not eligible\")"
   ]
  },
  {
   "cell_type": "code",
   "execution_count": 16,
   "id": "204ac825",
   "metadata": {},
   "outputs": [
    {
     "name": "stdout",
     "output_type": "stream",
     "text": [
      "You can vote\n"
     ]
    }
   ],
   "source": [
    "age = 18\n",
    "country = \"Canada\"\n",
    "\n",
    "if age >= 18 or country == 'Canada':\n",
    "    print(\"You can vote\")\n",
    "else:\n",
    "    print(\"Not eligible\")"
   ]
  },
  {
   "cell_type": "code",
   "execution_count": 17,
   "id": "04e8fda9",
   "metadata": {},
   "outputs": [
    {
     "name": "stdout",
     "output_type": "stream",
     "text": [
      "zero\n"
     ]
    }
   ],
   "source": [
    "num = 0\n",
    "if num > 0:\n",
    "    print(\"Positive\")\n",
    "elif num < 0:\n",
    "    print(\"negative\")\n",
    "else:\n",
    "    print(\"zero\")"
   ]
  },
  {
   "cell_type": "code",
   "execution_count": 18,
   "id": "14db847e",
   "metadata": {},
   "outputs": [
    {
     "name": "stdout",
     "output_type": "stream",
     "text": [
      "c is largest\n"
     ]
    }
   ],
   "source": [
    "#write a program that finds the largest between 3 variables\n",
    "a = 13\n",
    "b = 11\n",
    "c = 20\n",
    "if a > b and a > c:\n",
    "    print(\"a is largest\")\n",
    "elif b > a and b > c:\n",
    "    print(\"b is largest\")\n",
    "else:\n",
    "    print(\"c is largest\")"
   ]
  },
  {
   "cell_type": "code",
   "execution_count": 19,
   "id": "91725c89",
   "metadata": {},
   "outputs": [
    {
     "name": "stdout",
     "output_type": "stream",
     "text": [
      "1\n",
      "2\n",
      "3\n",
      "4\n",
      "5\n",
      "6\n",
      "7\n",
      "8\n",
      "9\n",
      "10\n"
     ]
    }
   ],
   "source": [
    "#Loops: when a condition is met, a cycle is repeated\n",
    "#while\n",
    "\n",
    "x = 1           #initialization\n",
    "while x <= 10:  #condition: the loop ends at x = 10\n",
    "    print(x)    #an infinite loop is created\n",
    "    x += 1      #increments of +1"
   ]
  },
  {
   "cell_type": "code",
   "execution_count": 20,
   "id": "0af5dd0a",
   "metadata": {},
   "outputs": [
    {
     "name": "stdout",
     "output_type": "stream",
     "text": [
      "2\n",
      "4\n",
      "6\n",
      "8\n",
      "10\n"
     ]
    }
   ],
   "source": [
    "x = 2        \n",
    "while x <= 10:  \n",
    "    print(x)\n",
    "    x += 2"
   ]
  },
  {
   "cell_type": "code",
   "execution_count": 21,
   "id": "124621a3",
   "metadata": {},
   "outputs": [
    {
     "name": "stdout",
     "output_type": "stream",
     "text": [
      "2\n",
      "3\n",
      "4\n",
      "5\n",
      "6\n",
      "7\n",
      "8\n",
      "9\n",
      "10\n",
      "11\n"
     ]
    }
   ],
   "source": [
    "#For Loop\n",
    "numbers = [1,2,3,4,5,6,7,8,9,10]\n",
    "for x in numbers:\n",
    "    x += 1\n",
    "    print(x)"
   ]
  },
  {
   "cell_type": "code",
   "execution_count": 22,
   "id": "4986d31e",
   "metadata": {},
   "outputs": [
    {
     "name": "stdout",
     "output_type": "stream",
     "text": [
      "2\n",
      "4\n",
      "6\n",
      "8\n",
      "10\n"
     ]
    }
   ],
   "source": [
    "for x in numbers:\n",
    "    if x % 2 == 0: #print values with remainder = 0\n",
    "        print(x)"
   ]
  },
  {
   "cell_type": "code",
   "execution_count": 23,
   "id": "965b8382",
   "metadata": {},
   "outputs": [],
   "source": [
    "data = [1,2,3,4,5,6,7,8,9,10]\n",
    "\n",
    "#Method 1. \n",
    "#sum first number plus second number\n",
    "#answer plus third number\n",
    "#repeat till end of data\n",
    "\n",
    "#alternatively: Method 2\n",
    "#go over all the data one by one\n",
    "#add first number to next number\n",
    "#continue till end"
   ]
  },
  {
   "cell_type": "code",
   "execution_count": 24,
   "id": "cabde54a",
   "metadata": {},
   "outputs": [
    {
     "name": "stdout",
     "output_type": "stream",
     "text": [
      "1\n",
      "3\n",
      "6\n",
      "10\n",
      "15\n",
      "21\n",
      "28\n",
      "36\n",
      "45\n",
      "55\n"
     ]
    }
   ],
   "source": [
    "result = 0\n",
    "for i in data:\n",
    "    result += i\n",
    "    print(result) #**AVOID RUNNING THIS MORE THAN ONCE BEC. IT'S A LOGARITHM"
   ]
  },
  {
   "cell_type": "code",
   "execution_count": 25,
   "id": "771253ba",
   "metadata": {},
   "outputs": [
    {
     "name": "stdout",
     "output_type": "stream",
     "text": [
      "55\n"
     ]
    }
   ],
   "source": [
    "result = 0\n",
    "for i in data:\n",
    "    result += i\n",
    "print(result) #indentation removed (print has been removed from the loop)"
   ]
  },
  {
   "cell_type": "code",
   "execution_count": 26,
   "id": "a3c07807",
   "metadata": {},
   "outputs": [
    {
     "data": {
      "text/plain": [
       "range(0, 10)"
      ]
     },
     "execution_count": 26,
     "metadata": {},
     "output_type": "execute_result"
    }
   ],
   "source": [
    "range(10)"
   ]
  },
  {
   "cell_type": "code",
   "execution_count": 27,
   "id": "eb2c550e",
   "metadata": {},
   "outputs": [
    {
     "data": {
      "text/plain": [
       "[0, 1, 2, 3, 4, 5, 6, 7, 8, 9]"
      ]
     },
     "execution_count": 27,
     "metadata": {},
     "output_type": "execute_result"
    }
   ],
   "source": [
    "list(range(10))"
   ]
  },
  {
   "cell_type": "code",
   "execution_count": 28,
   "id": "571918ac",
   "metadata": {},
   "outputs": [
    {
     "data": {
      "text/plain": [
       "[1, 2, 3, 4, 5, 6, 7, 8, 9, 10]"
      ]
     },
     "execution_count": 28,
     "metadata": {},
     "output_type": "execute_result"
    }
   ],
   "source": [
    "list(range(1,11))"
   ]
  },
  {
   "cell_type": "code",
   "execution_count": 29,
   "id": "58631cc3",
   "metadata": {},
   "outputs": [
    {
     "name": "stdout",
     "output_type": "stream",
     "text": [
      "15\n"
     ]
    }
   ],
   "source": [
    "total = 0\n",
    "for i in range(1,6):\n",
    "    total += i\n",
    "print(total)"
   ]
  },
  {
   "cell_type": "code",
   "execution_count": 30,
   "id": "63907b90",
   "metadata": {},
   "outputs": [
    {
     "name": "stdout",
     "output_type": "stream",
     "text": [
      "1\n",
      "2\n",
      "3\n",
      "4\n",
      "5\n"
     ]
    }
   ],
   "source": [
    "for i in data[:5]:\n",
    "    print(i)"
   ]
  },
  {
   "cell_type": "code",
   "execution_count": 31,
   "id": "c7d295f3",
   "metadata": {},
   "outputs": [
    {
     "name": "stdout",
     "output_type": "stream",
     "text": [
      "Good morning\n",
      "Good morning\n",
      "Good morning\n"
     ]
    }
   ],
   "source": [
    "#define a FUNCTION\n",
    "\n",
    "def greet():\n",
    "    print(\"Good morning\")\n",
    "    \n",
    "greet()\n",
    "greet()\n",
    "greet()"
   ]
  },
  {
   "cell_type": "code",
   "execution_count": 32,
   "id": "a4f76b86",
   "metadata": {},
   "outputs": [],
   "source": [
    "#FUNCTION PARAMETER\n",
    "def greet(x):\n",
    "    print(f\"Good {x}\")"
   ]
  },
  {
   "cell_type": "code",
   "execution_count": 33,
   "id": "7fc07742",
   "metadata": {},
   "outputs": [
    {
     "name": "stdout",
     "output_type": "stream",
     "text": [
      "Good Morning\n",
      "Good Afternoon\n",
      "Good Evening\n"
     ]
    }
   ],
   "source": [
    "greet(\"Morning\")\n",
    "greet(\"Afternoon\")\n",
    "greet(\"Evening\")"
   ]
  },
  {
   "cell_type": "code",
   "execution_count": 34,
   "id": "45e0ff95",
   "metadata": {},
   "outputs": [],
   "source": [
    "def add_two_numbers(x,y):\n",
    "    print(x + y)"
   ]
  },
  {
   "cell_type": "code",
   "execution_count": 35,
   "id": "e2798342",
   "metadata": {},
   "outputs": [
    {
     "name": "stdout",
     "output_type": "stream",
     "text": [
      "8\n",
      "10\n"
     ]
    }
   ],
   "source": [
    "add_two_numbers(3,5)\n",
    "add_two_numbers(2,8)"
   ]
  },
  {
   "cell_type": "code",
   "execution_count": null,
   "id": "0c562141",
   "metadata": {},
   "outputs": [],
   "source": [
    "num1 = input(\"Enter first number\")\n",
    "num2 = input(\"Enter second number\")\n",
    "def add_two_numbers(x,y):\n",
    "    print(x + y)\n",
    "    \n",
    "add_two_numbers(num1, num2)"
   ]
  },
  {
   "cell_type": "code",
   "execution_count": null,
   "id": "1d210f7c",
   "metadata": {},
   "outputs": [],
   "source": [
    "num1 = int(input(\"Enter first number\"))   #int converts script to integer so that a mathematical operation is possible\n",
    "operator = input(\"Enter operator\")\n",
    "num2 = int(input(\"Enter second number\"))\n",
    "def add_two_numbers(x,y):\n",
    "    print(x + y)\n",
    "    \n",
    "add_two_numbers(num1, num2)"
   ]
  },
  {
   "cell_type": "code",
   "execution_count": null,
   "id": "a827d0ff",
   "metadata": {},
   "outputs": [],
   "source": [
    "#VARIABLE SCOPE\n",
    "x = 10           #this is the Global variable\n",
    "\n",
    "def local_variable():\n",
    "    x = 5\n",
    "    print(x)\n",
    "    \n",
    "local_variable()"
   ]
  },
  {
   "cell_type": "code",
   "execution_count": null,
   "id": "643ae964",
   "metadata": {},
   "outputs": [],
   "source": [
    "x = 10          #the Global variable overides in the absence of a local variable\n",
    "def local_variable():\n",
    "    print(x)    #Local\n",
    "    \n",
    "local_variable()"
   ]
  },
  {
   "cell_type": "code",
   "execution_count": null,
   "id": "4fad5cc5",
   "metadata": {},
   "outputs": [],
   "source": [
    "def local_variable():\n",
    "    z = 2\n",
    "    print(z)\n",
    "    \n",
    "print(z)     #this command is meant to print the Global variable which unfortunately has not been defined. \n",
    "             #Local variable can not answer for Global"
   ]
  },
  {
   "cell_type": "code",
   "execution_count": null,
   "id": "f6a41006",
   "metadata": {},
   "outputs": [],
   "source": []
  }
 ],
 "metadata": {
  "kernelspec": {
   "display_name": "Python 3 (ipykernel)",
   "language": "python",
   "name": "python3"
  },
  "language_info": {
   "codemirror_mode": {
    "name": "ipython",
    "version": 3
   },
   "file_extension": ".py",
   "mimetype": "text/x-python",
   "name": "python",
   "nbconvert_exporter": "python",
   "pygments_lexer": "ipython3",
   "version": "3.9.12"
  }
 },
 "nbformat": 4,
 "nbformat_minor": 5
}
