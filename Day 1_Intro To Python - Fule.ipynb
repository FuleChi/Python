{
 "cells": [
  {
   "cell_type": "code",
   "execution_count": 6,
   "id": "16a58499",
   "metadata": {},
   "outputs": [
    {
     "data": {
      "text/plain": [
       "7"
      ]
     },
     "execution_count": 6,
     "metadata": {},
     "output_type": "execute_result"
    }
   ],
   "source": [
    "3+4"
   ]
  },
  {
   "cell_type": "code",
   "execution_count": 7,
   "id": "e15294b3",
   "metadata": {},
   "outputs": [
    {
     "name": "stdout",
     "output_type": "stream",
     "text": [
      "The answer is 7\n"
     ]
    }
   ],
   "source": [
    "print(\"The answer is\", 3+4)"
   ]
  },
  {
   "cell_type": "code",
   "execution_count": 8,
   "id": "7c702af8",
   "metadata": {},
   "outputs": [
    {
     "name": "stdout",
     "output_type": "stream",
     "text": [
      "Enter your nameFULE CHI B.\n"
     ]
    },
    {
     "data": {
      "text/plain": [
       "'FULE CHI B.'"
      ]
     },
     "execution_count": 8,
     "metadata": {},
     "output_type": "execute_result"
    }
   ],
   "source": [
    "input(\"Enter your name\")"
   ]
  },
  {
   "cell_type": "code",
   "execution_count": 9,
   "id": "5df13b71",
   "metadata": {},
   "outputs": [],
   "source": [
    "first_name='FULE'"
   ]
  },
  {
   "cell_type": "code",
   "execution_count": 10,
   "id": "39b2e3fe",
   "metadata": {},
   "outputs": [
    {
     "data": {
      "text/plain": [
       "'FULE'"
      ]
     },
     "execution_count": 10,
     "metadata": {},
     "output_type": "execute_result"
    }
   ],
   "source": [
    "first_name"
   ]
  },
  {
   "cell_type": "code",
   "execution_count": 11,
   "id": "e9d0ea53",
   "metadata": {},
   "outputs": [],
   "source": [
    "#Rules for Naming:\n",
    "#1. Do not start your variables with numbers or symbols except underscore_\n",
    "_numbers2=5+4"
   ]
  },
  {
   "cell_type": "code",
   "execution_count": 12,
   "id": "5cf2dc13",
   "metadata": {},
   "outputs": [
    {
     "data": {
      "text/plain": [
       "9"
      ]
     },
     "execution_count": 12,
     "metadata": {},
     "output_type": "execute_result"
    }
   ],
   "source": [
    "_numbers2"
   ]
  },
  {
   "cell_type": "code",
   "execution_count": 17,
   "id": "25e496d7",
   "metadata": {},
   "outputs": [],
   "source": [
    "#2. Do not add space in between variable names\n",
    "last_name = \"Chi\""
   ]
  },
  {
   "cell_type": "code",
   "execution_count": 18,
   "id": "03e008ea",
   "metadata": {},
   "outputs": [
    {
     "data": {
      "text/plain": [
       "'Chi'"
      ]
     },
     "execution_count": 18,
     "metadata": {},
     "output_type": "execute_result"
    }
   ],
   "source": [
    "last_name"
   ]
  },
  {
   "cell_type": "code",
   "execution_count": 19,
   "id": "f150702a",
   "metadata": {},
   "outputs": [],
   "source": [
    "#3. Do not use reserved words as variable name\n",
    "#eg. false, none, true, and, await, else, import, pass, with, yield, etc."
   ]
  },
  {
   "cell_type": "code",
   "execution_count": 20,
   "id": "e0aae55f",
   "metadata": {},
   "outputs": [
    {
     "name": "stdout",
     "output_type": "stream",
     "text": [
      "5\n"
     ]
    }
   ],
   "source": [
    "print(2+3)"
   ]
  },
  {
   "cell_type": "code",
   "execution_count": 21,
   "id": "2ac50122",
   "metadata": {},
   "outputs": [
    {
     "name": "stdout",
     "output_type": "stream",
     "text": [
      "2+3\n"
     ]
    }
   ],
   "source": [
    "print(\"2+3\")"
   ]
  },
  {
   "cell_type": "code",
   "execution_count": 22,
   "id": "bf322213",
   "metadata": {},
   "outputs": [],
   "source": [
    "#4. variables are case-sensitive"
   ]
  },
  {
   "cell_type": "code",
   "execution_count": 23,
   "id": "f8c89dcc",
   "metadata": {},
   "outputs": [],
   "source": [
    "greet=\"how are you?\""
   ]
  },
  {
   "cell_type": "code",
   "execution_count": 24,
   "id": "87ad213e",
   "metadata": {},
   "outputs": [
    {
     "name": "stdout",
     "output_type": "stream",
     "text": [
      "how are you?\n"
     ]
    }
   ],
   "source": [
    "print(greet)"
   ]
  },
  {
   "cell_type": "code",
   "execution_count": 25,
   "id": "45692c47",
   "metadata": {},
   "outputs": [],
   "source": [
    "#5. use meainingful words to represent your variable\n",
    "add_two_numbers = 2 + 4"
   ]
  },
  {
   "cell_type": "code",
   "execution_count": 26,
   "id": "0e642f65",
   "metadata": {},
   "outputs": [
    {
     "data": {
      "text/plain": [
       "6"
      ]
     },
     "execution_count": 26,
     "metadata": {},
     "output_type": "execute_result"
    }
   ],
   "source": [
    "add_two_numbers"
   ]
  },
  {
   "cell_type": "code",
   "execution_count": 27,
   "id": "5c020b42",
   "metadata": {},
   "outputs": [],
   "source": [
    "#6. Use Uppercase to store constant variables\n",
    "PI = 3.14"
   ]
  },
  {
   "cell_type": "code",
   "execution_count": 29,
   "id": "0342fe98",
   "metadata": {},
   "outputs": [],
   "source": [
    "#7. Multiple lines of code for calculations, use \\ at the end of the preceeding line\n",
    "add_numbers = 2 + 4 \\\n",
    "+ 3"
   ]
  },
  {
   "cell_type": "code",
   "execution_count": 30,
   "id": "f0f1ff6e",
   "metadata": {},
   "outputs": [
    {
     "data": {
      "text/plain": [
       "9"
      ]
     },
     "execution_count": 30,
     "metadata": {},
     "output_type": "execute_result"
    }
   ],
   "source": [
    "add_numbers"
   ]
  },
  {
   "cell_type": "code",
   "execution_count": 31,
   "id": "75b174e3",
   "metadata": {},
   "outputs": [],
   "source": [
    "#8. Triple quote allows multiple lines of string codes\n",
    "address = \"\"\"11524 Av. Allard,\n",
    "Montreal-Nord,\n",
    "Quebec,\n",
    "Canada.\n",
    "H1G 3L3\n",
    "\"\"\""
   ]
  },
  {
   "cell_type": "code",
   "execution_count": 32,
   "id": "124ebe8a",
   "metadata": {},
   "outputs": [
    {
     "data": {
      "text/plain": [
       "'11524 Av. Allard,\\nMontreal-Nord,\\nQuebec,\\nCanada.\\nH1G 3L3\\n'"
      ]
     },
     "execution_count": 32,
     "metadata": {},
     "output_type": "execute_result"
    }
   ],
   "source": [
    "address"
   ]
  },
  {
   "cell_type": "code",
   "execution_count": 33,
   "id": "b52da9a4",
   "metadata": {},
   "outputs": [
    {
     "data": {
      "text/plain": [
       "16"
      ]
     },
     "execution_count": 33,
     "metadata": {},
     "output_type": "execute_result"
    }
   ],
   "source": [
    "#count the number of charaters in a string, including spaces and symbols, starting from 1 - use 'len' to mean length\n",
    "\n",
    "address =\"11524 Av. Allard\"\n",
    "len(address)"
   ]
  },
  {
   "cell_type": "code",
   "execution_count": 39,
   "id": "3bfa1166",
   "metadata": {},
   "outputs": [
    {
     "data": {
      "text/plain": [
       "'r'"
      ]
     },
     "execution_count": 39,
     "metadata": {},
     "output_type": "execute_result"
    }
   ],
   "source": [
    "#indexing - bringing out a single character from a string\n",
    "\n",
    "#what is the index position of 'r' in 11524 Av. Allard ?\n",
    "#index position of r is 14 (start counting 1st letter from 0, or last letter at -1)\n",
    "\n",
    "address[14]"
   ]
  },
  {
   "cell_type": "code",
   "execution_count": 40,
   "id": "b24df2bd",
   "metadata": {},
   "outputs": [
    {
     "data": {
      "text/plain": [
       "'r'"
      ]
     },
     "execution_count": 40,
     "metadata": {},
     "output_type": "execute_result"
    }
   ],
   "source": [
    "address[-2]"
   ]
  },
  {
   "cell_type": "code",
   "execution_count": 41,
   "id": "7138d607",
   "metadata": {},
   "outputs": [
    {
     "data": {
      "text/plain": [
       "'Allard'"
      ]
     },
     "execution_count": 41,
     "metadata": {},
     "output_type": "execute_result"
    }
   ],
   "source": [
    "#slicing - bring out multiple items\n",
    "address[10:16]"
   ]
  },
  {
   "cell_type": "code",
   "execution_count": 44,
   "id": "54cf51be",
   "metadata": {},
   "outputs": [
    {
     "data": {
      "text/plain": [
       "'Fule'"
      ]
     },
     "execution_count": 44,
     "metadata": {},
     "output_type": "execute_result"
    }
   ],
   "source": [
    "name = \"fule\"\n",
    "name.capitalize()"
   ]
  },
  {
   "cell_type": "code",
   "execution_count": 45,
   "id": "79990d69",
   "metadata": {},
   "outputs": [
    {
     "data": {
      "text/plain": [
       "'FULE'"
      ]
     },
     "execution_count": 45,
     "metadata": {},
     "output_type": "execute_result"
    }
   ],
   "source": [
    "name.upper()"
   ]
  },
  {
   "cell_type": "code",
   "execution_count": 47,
   "id": "3051cbc0",
   "metadata": {},
   "outputs": [
    {
     "data": {
      "text/plain": [
       "3"
      ]
     },
     "execution_count": 47,
     "metadata": {},
     "output_type": "execute_result"
    }
   ],
   "source": [
    "address =\"11524 av. allard\"\n",
    "address.count('a')"
   ]
  },
  {
   "cell_type": "code",
   "execution_count": 49,
   "id": "4dc85aab",
   "metadata": {},
   "outputs": [
    {
     "data": {
      "text/plain": [
       "11"
      ]
     },
     "execution_count": 49,
     "metadata": {},
     "output_type": "execute_result"
    }
   ],
   "source": [
    "address.index('l')"
   ]
  },
  {
   "cell_type": "code",
   "execution_count": 50,
   "id": "bac19ecd",
   "metadata": {},
   "outputs": [
    {
     "data": {
      "text/plain": [
       "False"
      ]
     },
     "execution_count": 50,
     "metadata": {},
     "output_type": "execute_result"
    }
   ],
   "source": [
    "address.isdigit()"
   ]
  },
  {
   "cell_type": "code",
   "execution_count": 51,
   "id": "9d7e9bd6",
   "metadata": {},
   "outputs": [
    {
     "data": {
      "text/plain": [
       "'11524 av. allard'"
      ]
     },
     "execution_count": 51,
     "metadata": {},
     "output_type": "execute_result"
    }
   ],
   "source": [
    "address[ : ]"
   ]
  },
  {
   "cell_type": "code",
   "execution_count": 53,
   "id": "635e669e",
   "metadata": {},
   "outputs": [
    {
     "data": {
      "text/plain": [
       "'11524'"
      ]
     },
     "execution_count": 53,
     "metadata": {},
     "output_type": "execute_result"
    }
   ],
   "source": [
    "address[ :5]"
   ]
  },
  {
   "cell_type": "code",
   "execution_count": 54,
   "id": "b64b40e6",
   "metadata": {},
   "outputs": [
    {
     "data": {
      "text/plain": [
       "'154a.alr'"
      ]
     },
     "execution_count": 54,
     "metadata": {},
     "output_type": "execute_result"
    }
   ],
   "source": [
    "address[0:16:2]"
   ]
  },
  {
   "cell_type": "code",
   "execution_count": 55,
   "id": "b35823a0",
   "metadata": {},
   "outputs": [
    {
     "data": {
      "text/plain": [
       "'2468'"
      ]
     },
     "execution_count": 55,
     "metadata": {},
     "output_type": "execute_result"
    }
   ],
   "source": [
    "numbers = '123456789'\n",
    "numbers[1:10:2]\n",
    "#read: display number starting from the 1st to the last, skipping 2 numbers along the way"
   ]
  },
  {
   "cell_type": "code",
   "execution_count": 56,
   "id": "0828744b",
   "metadata": {},
   "outputs": [
    {
     "data": {
      "text/plain": [
       "'2468'"
      ]
     },
     "execution_count": 56,
     "metadata": {},
     "output_type": "execute_result"
    }
   ],
   "source": [
    "#alternatively, omit 10 and the entire numbers will be displayed\n",
    "numbers[1: :2]"
   ]
  },
  {
   "cell_type": "code",
   "execution_count": 57,
   "id": "7fe1a5e5",
   "metadata": {},
   "outputs": [
    {
     "data": {
      "text/plain": [
       "'13579'"
      ]
     },
     "execution_count": 57,
     "metadata": {},
     "output_type": "execute_result"
    }
   ],
   "source": [
    "numbers = '123456789'\n",
    "numbers[0:10:2]"
   ]
  },
  {
   "cell_type": "code",
   "execution_count": 58,
   "id": "a9fb9826",
   "metadata": {},
   "outputs": [
    {
     "data": {
      "text/plain": [
       "'13579'"
      ]
     },
     "execution_count": 58,
     "metadata": {},
     "output_type": "execute_result"
    }
   ],
   "source": [
    "#alternatively\n",
    "numbers = '123456789'\n",
    "numbers[::2]"
   ]
  },
  {
   "cell_type": "code",
   "execution_count": 59,
   "id": "9a102e17",
   "metadata": {},
   "outputs": [
    {
     "data": {
      "text/plain": [
       "'987654321'"
      ]
     },
     "execution_count": 59,
     "metadata": {},
     "output_type": "execute_result"
    }
   ],
   "source": [
    "#Inverting a number eg. 123456789 to 987654321\n",
    "numbers[::-1]"
   ]
  },
  {
   "cell_type": "code",
   "execution_count": 61,
   "id": "a33982f9",
   "metadata": {},
   "outputs": [
    {
     "data": {
      "text/plain": [
       "'yellow'"
      ]
     },
     "execution_count": 61,
     "metadata": {},
     "output_type": "execute_result"
    }
   ],
   "source": [
    "#list - is for storing multiple values in a variable.\n",
    "#instead of recording color1=red, color2=green, etc, rather do this:\n",
    "colors = [\"red\", \"green\", \"blue\", \"yellow\"]\n",
    "colors[3]"
   ]
  },
  {
   "cell_type": "code",
   "execution_count": 62,
   "id": "39d03a0c",
   "metadata": {},
   "outputs": [
    {
     "data": {
      "text/plain": [
       "3"
      ]
     },
     "execution_count": 62,
     "metadata": {},
     "output_type": "execute_result"
    }
   ],
   "source": [
    "colors.index('yellow')"
   ]
  },
  {
   "cell_type": "code",
   "execution_count": 63,
   "id": "855f6da5",
   "metadata": {},
   "outputs": [],
   "source": [
    "#add new item to a list - use append\n",
    "\n",
    "colors.append('purple')"
   ]
  },
  {
   "cell_type": "code",
   "execution_count": 64,
   "id": "f2ecedf9",
   "metadata": {},
   "outputs": [
    {
     "data": {
      "text/plain": [
       "['red', 'green', 'blue', 'yellow', 'purple']"
      ]
     },
     "execution_count": 64,
     "metadata": {},
     "output_type": "execute_result"
    }
   ],
   "source": [
    "colors"
   ]
  },
  {
   "cell_type": "code",
   "execution_count": 66,
   "id": "4d9d443a",
   "metadata": {},
   "outputs": [
    {
     "data": {
      "text/plain": [
       "['red', 'green', 'blue', 'yellow', 'purple']"
      ]
     },
     "execution_count": 66,
     "metadata": {},
     "output_type": "execute_result"
    }
   ],
   "source": [
    "demo = colors.copy()\n",
    "demo"
   ]
  },
  {
   "cell_type": "code",
   "execution_count": 67,
   "id": "e6822e42",
   "metadata": {},
   "outputs": [],
   "source": [
    "#merge - using extend\n",
    "colors.extend(demo)"
   ]
  },
  {
   "cell_type": "code",
   "execution_count": 68,
   "id": "8b42e362",
   "metadata": {},
   "outputs": [
    {
     "data": {
      "text/plain": [
       "['red',\n",
       " 'green',\n",
       " 'blue',\n",
       " 'yellow',\n",
       " 'purple',\n",
       " 'red',\n",
       " 'green',\n",
       " 'blue',\n",
       " 'yellow',\n",
       " 'purple']"
      ]
     },
     "execution_count": 68,
     "metadata": {},
     "output_type": "execute_result"
    }
   ],
   "source": [
    "colors"
   ]
  },
  {
   "cell_type": "code",
   "execution_count": 2,
   "id": "4d15637c",
   "metadata": {},
   "outputs": [],
   "source": [
    "#example 2 of merge\n",
    "num1 = [1,2,3]\n",
    "num2 = [4,5,6]\n",
    "num1.extend(num2)"
   ]
  },
  {
   "cell_type": "code",
   "execution_count": 72,
   "id": "a3f5fcfe",
   "metadata": {},
   "outputs": [
    {
     "data": {
      "text/plain": [
       "[1, 2, 3, 4, 5, 6]"
      ]
     },
     "execution_count": 72,
     "metadata": {},
     "output_type": "execute_result"
    }
   ],
   "source": [
    "num1"
   ]
  },
  {
   "cell_type": "code",
   "execution_count": 73,
   "id": "8299a639",
   "metadata": {},
   "outputs": [],
   "source": [
    "#define position to append new item\n",
    "\n",
    "demo.insert(0,\"pink\")"
   ]
  },
  {
   "cell_type": "code",
   "execution_count": 74,
   "id": "57fb747b",
   "metadata": {},
   "outputs": [
    {
     "data": {
      "text/plain": [
       "['pink', 'red', 'green', 'blue', 'yellow', 'purple']"
      ]
     },
     "execution_count": 74,
     "metadata": {},
     "output_type": "execute_result"
    }
   ],
   "source": [
    "demo"
   ]
  },
  {
   "cell_type": "code",
   "execution_count": 75,
   "id": "ef0be49b",
   "metadata": {},
   "outputs": [],
   "source": [
    "num1.reverse()"
   ]
  },
  {
   "cell_type": "code",
   "execution_count": 76,
   "id": "d1b4d6cf",
   "metadata": {},
   "outputs": [
    {
     "data": {
      "text/plain": [
       "[6, 5, 4, 3, 2, 1]"
      ]
     },
     "execution_count": 76,
     "metadata": {},
     "output_type": "execute_result"
    }
   ],
   "source": [
    "num1"
   ]
  },
  {
   "cell_type": "code",
   "execution_count": 77,
   "id": "b16e39f3",
   "metadata": {},
   "outputs": [
    {
     "data": {
      "text/plain": [
       "'purple'"
      ]
     },
     "execution_count": 77,
     "metadata": {},
     "output_type": "execute_result"
    }
   ],
   "source": [
    "#drop an item from list using pop\n",
    "demo.pop()"
   ]
  },
  {
   "cell_type": "code",
   "execution_count": 78,
   "id": "17dfa87d",
   "metadata": {},
   "outputs": [
    {
     "data": {
      "text/plain": [
       "['pink', 'red', 'green', 'blue', 'yellow']"
      ]
     },
     "execution_count": 78,
     "metadata": {},
     "output_type": "execute_result"
    }
   ],
   "source": [
    "demo"
   ]
  },
  {
   "cell_type": "code",
   "execution_count": 79,
   "id": "3220a5ad",
   "metadata": {},
   "outputs": [
    {
     "data": {
      "text/plain": [
       "'green'"
      ]
     },
     "execution_count": 79,
     "metadata": {},
     "output_type": "execute_result"
    }
   ],
   "source": [
    "demo.pop(2)"
   ]
  },
  {
   "cell_type": "code",
   "execution_count": 80,
   "id": "33781471",
   "metadata": {},
   "outputs": [
    {
     "data": {
      "text/plain": [
       "['pink', 'red', 'blue', 'yellow']"
      ]
     },
     "execution_count": 80,
     "metadata": {},
     "output_type": "execute_result"
    }
   ],
   "source": [
    "demo"
   ]
  },
  {
   "cell_type": "code",
   "execution_count": 81,
   "id": "2bd9c422",
   "metadata": {},
   "outputs": [],
   "source": [
    "#organize list in ascending order using sort\n",
    "demo.sort()"
   ]
  },
  {
   "cell_type": "code",
   "execution_count": 82,
   "id": "a964308a",
   "metadata": {},
   "outputs": [
    {
     "data": {
      "text/plain": [
       "['blue', 'pink', 'red', 'yellow']"
      ]
     },
     "execution_count": 82,
     "metadata": {},
     "output_type": "execute_result"
    }
   ],
   "source": [
    "demo"
   ]
  },
  {
   "cell_type": "code",
   "execution_count": 83,
   "id": "c451cd57",
   "metadata": {},
   "outputs": [
    {
     "data": {
      "text/plain": [
       "['blue', 'pink', 'red', 'yellow']"
      ]
     },
     "execution_count": 83,
     "metadata": {},
     "output_type": "execute_result"
    }
   ],
   "source": [
    "df = demo.copy() #saves an updated data version\n",
    "df"
   ]
  },
  {
   "cell_type": "code",
   "execution_count": 87,
   "id": "a4d2cd80",
   "metadata": {},
   "outputs": [],
   "source": [
    "df.reverse()"
   ]
  },
  {
   "cell_type": "code",
   "execution_count": 88,
   "id": "a854c4c3",
   "metadata": {},
   "outputs": [
    {
     "data": {
      "text/plain": [
       "['yellow', 'red', 'pink', 'blue']"
      ]
     },
     "execution_count": 88,
     "metadata": {},
     "output_type": "execute_result"
    }
   ],
   "source": [
    "df"
   ]
  },
  {
   "cell_type": "code",
   "execution_count": 3,
   "id": "b53c1ac2",
   "metadata": {},
   "outputs": [
    {
     "data": {
      "text/plain": [
       "[4, 5, 6]"
      ]
     },
     "execution_count": 3,
     "metadata": {},
     "output_type": "execute_result"
    }
   ],
   "source": [
    "num2"
   ]
  },
  {
   "cell_type": "code",
   "execution_count": 6,
   "id": "275a4885",
   "metadata": {},
   "outputs": [],
   "source": [
    "test = [3,6,1,8,4,2]\n",
    "test.sort()"
   ]
  },
  {
   "cell_type": "code",
   "execution_count": 7,
   "id": "3a5a116a",
   "metadata": {},
   "outputs": [
    {
     "data": {
      "text/plain": [
       "[1, 2, 3, 4, 6, 8]"
      ]
     },
     "execution_count": 7,
     "metadata": {},
     "output_type": "execute_result"
    }
   ],
   "source": [
    "test"
   ]
  },
  {
   "cell_type": "code",
   "execution_count": 10,
   "id": "04f34800",
   "metadata": {},
   "outputs": [
    {
     "data": {
      "text/plain": [
       "'Female'"
      ]
     },
     "execution_count": 10,
     "metadata": {},
     "output_type": "execute_result"
    }
   ],
   "source": [
    "#Advanced Data Types\n",
    "#Type 1. Tuple: storing immutable values, that is, can not be modified, denoted by () - rounded brackets\n",
    "\n",
    "numbers = (1,2,3,4)\n",
    "gender = (\"Male\", \"Female\")\n",
    "#gender.append(\"non Binary\") will not be possible\n",
    "gender[1]"
   ]
  },
  {
   "cell_type": "code",
   "execution_count": 11,
   "id": "abaaec10",
   "metadata": {},
   "outputs": [
    {
     "data": {
      "text/plain": [
       "1"
      ]
     },
     "execution_count": 11,
     "metadata": {},
     "output_type": "execute_result"
    }
   ],
   "source": [
    "gender.count(\"Male\")"
   ]
  },
  {
   "cell_type": "code",
   "execution_count": 12,
   "id": "7c093996",
   "metadata": {},
   "outputs": [
    {
     "data": {
      "text/plain": [
       "{1, 2, 3, 4}"
      ]
     },
     "execution_count": 12,
     "metadata": {},
     "output_type": "execute_result"
    }
   ],
   "source": [
    "#Type 2. Set: for storing unique values, denoted by {} - curly brackets\n",
    "numbers = {1,2,1,3,1,4,4,1,2,1,3,3,1}\n",
    "numbers"
   ]
  },
  {
   "cell_type": "code",
   "execution_count": 13,
   "id": "5a7430f8",
   "metadata": {},
   "outputs": [
    {
     "data": {
      "text/plain": [
       "{1, 2, 3, 4}"
      ]
     },
     "execution_count": 13,
     "metadata": {},
     "output_type": "execute_result"
    }
   ],
   "source": [
    "#alternatively\n",
    "score = [1,2,1,3,1,4,4,1,2,1,3,3,1] #this is a list\n",
    "set(score)"
   ]
  },
  {
   "cell_type": "code",
   "execution_count": 31,
   "id": "5c308600",
   "metadata": {},
   "outputs": [
    {
     "data": {
      "text/plain": [
       "25"
      ]
     },
     "execution_count": 31,
     "metadata": {},
     "output_type": "execute_result"
    }
   ],
   "source": [
    "#Type 3. Dictionary: It is the Key-value pair data, which allows nesting values\n",
    "#staff_data = [\"Fule\", \"John\", \"Mary\", \"Wale\"]\n",
    "employee = {\n",
    "    \"name\": \"Fule\",\n",
    "    \"age\": 25,\n",
    "    \"gender\": \"Female\",\n",
    "    \"address\":{\n",
    "        \"street\": \"11524 Allard\",\n",
    "        \"state\": \"Quebec\"\n",
    "     }\n",
    "}\n",
    "employee[\"age\"]"
   ]
  },
  {
   "cell_type": "code",
   "execution_count": 18,
   "id": "498c7434",
   "metadata": {},
   "outputs": [
    {
     "data": {
      "text/plain": [
       "'Fule'"
      ]
     },
     "execution_count": 18,
     "metadata": {},
     "output_type": "execute_result"
    }
   ],
   "source": [
    "employee[\"name\"]"
   ]
  },
  {
   "cell_type": "code",
   "execution_count": 30,
   "id": "7780b839",
   "metadata": {},
   "outputs": [
    {
     "data": {
      "text/plain": [
       "'Quebec'"
      ]
     },
     "execution_count": 30,
     "metadata": {},
     "output_type": "execute_result"
    }
   ],
   "source": [
    "employee[\"address\"][\"state\"]"
   ]
  },
  {
   "cell_type": "code",
   "execution_count": 32,
   "id": "f7cb3d2c",
   "metadata": {},
   "outputs": [],
   "source": [
    "#Input staff_data using the format: employee = [{},{},{},{}]\n",
    "employee = [{\n",
    "    \"name\": \"Fule\",\n",
    "    \"age\": 25,\n",
    "    \"gender\": \"Female\",\n",
    "    \"address\":{\n",
    "        \"street\": \"11524 Allard\",\n",
    "        \"state\": \"Quebec\"\n",
    "    }\n",
    "},{\n",
    "    \"name\": \"John\",\n",
    "    \"age\": 30,\n",
    "    \"gender\": \"Male\",\n",
    "    \"address\":{\n",
    "        \"street\": \"90 Canada Road\",\n",
    "        \"state\": \"Ontario\"\n",
    "    }\n",
    "},{\n",
    "    \"name\": \"Mary\",\n",
    "    \"age\": 20,\n",
    "    \"gender\": \"Female\",\n",
    "    \"address\":{\n",
    "        \"street\": \"601 Alabama\",\n",
    "        \"state\": \"Manitoba\"\n",
    "    }\n",
    "},{\n",
    "    \"name\": \"Wale\",\n",
    "    \"age\": 40,\n",
    "    \"gender\": \"Male\",\n",
    "    \"address\":{\n",
    "        \"street\": \"5B Amazon Street\",\n",
    "        \"state\": \"Saskatchewan\"\n",
    "    }\n",
    "}]"
   ]
  },
  {
   "cell_type": "code",
   "execution_count": 33,
   "id": "5f9812bc",
   "metadata": {},
   "outputs": [
    {
     "data": {
      "text/plain": [
       "'Manitoba'"
      ]
     },
     "execution_count": 33,
     "metadata": {},
     "output_type": "execute_result"
    }
   ],
   "source": [
    "#to identify Mary's State, start with index position [2], then the key to get the corresponding value\n",
    "employee[2][\"address\"][\"state\"] "
   ]
  },
  {
   "cell_type": "code",
   "execution_count": 36,
   "id": "b9c38e29",
   "metadata": {},
   "outputs": [
    {
     "data": {
      "text/plain": [
       "'BlackTECH'"
      ]
     },
     "execution_count": 36,
     "metadata": {},
     "output_type": "execute_result"
    }
   ],
   "source": [
    "#bring out blackTECH from this code\n",
    "record = {'k1':[{'nest_key':['this is deep',['BlackTECH']]}]}\n",
    "#procedure:\n",
    "#level 1: k1 is key and [{'nest_key':['this is deep',['BlackTECH']]}] is the value (which is a list with only 1 variable, \n",
    "            #that is index position 0)\n",
    "#level 2: within the value, {'nest_key':['this is deep',['BlackTECH']]}, nest_key is the key, \n",
    "            #while ['this is deep',['BlackTECH'] is the value (list), with BlackTECH at index position 1\n",
    "#level 3: Reveal the value in index1 by [0]\n",
    "\n",
    "record['k1'][0]['nest_key'][1][0]"
   ]
  },
  {
   "cell_type": "code",
   "execution_count": null,
   "id": "18d5abb8",
   "metadata": {},
   "outputs": [],
   "source": []
  }
 ],
 "metadata": {
  "kernelspec": {
   "display_name": "Python 3 (ipykernel)",
   "language": "python",
   "name": "python3"
  },
  "language_info": {
   "codemirror_mode": {
    "name": "ipython",
    "version": 3
   },
   "file_extension": ".py",
   "mimetype": "text/x-python",
   "name": "python",
   "nbconvert_exporter": "python",
   "pygments_lexer": "ipython3",
   "version": "3.9.12"
  }
 },
 "nbformat": 4,
 "nbformat_minor": 5
}
