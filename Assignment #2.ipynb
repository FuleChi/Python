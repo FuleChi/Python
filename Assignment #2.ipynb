{
 "cells": [
  {
   "cell_type": "code",
   "execution_count": 1,
   "id": "51ebf2a0",
   "metadata": {},
   "outputs": [
    {
     "data": {
      "text/plain": [
       "'5678'"
      ]
     },
     "execution_count": 1,
     "metadata": {},
     "output_type": "execute_result"
    }
   ],
   "source": [
    "#1. Extract the last four digits from 12345678\n",
    "input = '12345678'\n",
    "input[4:]"
   ]
  },
  {
   "cell_type": "code",
   "execution_count": 10,
   "id": "557283f9",
   "metadata": {},
   "outputs": [
    {
     "ename": "TypeError",
     "evalue": "'str' object is not callable",
     "output_type": "error",
     "traceback": [
      "\u001b[1;31m---------------------------------------------------------------------------\u001b[0m",
      "\u001b[1;31mTypeError\u001b[0m                                 Traceback (most recent call last)",
      "Input \u001b[1;32mIn [10]\u001b[0m, in \u001b[0;36m<cell line: 2>\u001b[1;34m()\u001b[0m\n\u001b[0;32m      1\u001b[0m \u001b[38;5;66;03m#2. Creating a mini-calculator\u001b[39;00m\n\u001b[1;32m----> 2\u001b[0m num1 \u001b[38;5;241m=\u001b[39m \u001b[38;5;28mint\u001b[39m(\u001b[38;5;28;43minput\u001b[39;49m\u001b[43m(\u001b[49m\u001b[38;5;124;43m\"\u001b[39;49m\u001b[38;5;124;43mEnter first number\u001b[39;49m\u001b[38;5;124;43m\"\u001b[39;49m\u001b[43m)\u001b[49m)\n\u001b[0;32m      3\u001b[0m operator \u001b[38;5;241m=\u001b[39m \u001b[38;5;28minput\u001b[39m(\u001b[38;5;124m\"\u001b[39m\u001b[38;5;124mEnter operator\u001b[39m\u001b[38;5;124m\"\u001b[39m)\n\u001b[0;32m      4\u001b[0m num2 \u001b[38;5;241m=\u001b[39m \u001b[38;5;28mint\u001b[39m(\u001b[38;5;28minput\u001b[39m(\u001b[38;5;124m\"\u001b[39m\u001b[38;5;124mEnter second number\u001b[39m\u001b[38;5;124m\"\u001b[39m))\n",
      "\u001b[1;31mTypeError\u001b[0m: 'str' object is not callable"
     ]
    }
   ],
   "source": [
    "#2. Creating a mini-calculator\n",
    "num1 = int(input(\"Enter first number\"))\n",
    "operator = input(\"Enter operator\")\n",
    "num2 = int(input(\"Enter second number\"))\n",
    "def add_two_numbers(x,y):\n",
    "    print(x + y)\n",
    "    \n",
    "add_two_numbers(num1, num2)"
   ]
  },
  {
   "cell_type": "code",
   "execution_count": 11,
   "id": "75b1b2cf",
   "metadata": {},
   "outputs": [],
   "source": [
    "#3. Bring out only the digits in the following data\n",
    "data = {\n",
    "    1:\"A\", \n",
    "    2:\"B\", \n",
    "    3:\"C\", \n",
    "    4:\"D\", \n",
    "    5:\"E\", \n",
    "    6:\"F\", \n",
    "    7:\"G\", \n",
    "    8:\"H\"\n",
    "}"
   ]
  },
  {
   "cell_type": "code",
   "execution_count": 12,
   "id": "bf225017",
   "metadata": {},
   "outputs": [],
   "source": [
    "x = data.keys()"
   ]
  },
  {
   "cell_type": "code",
   "execution_count": 9,
   "id": "9fe58dd2",
   "metadata": {},
   "outputs": [
    {
     "data": {
      "text/plain": [
       "['this', 'is', 'the', 'time', 'to', 'attend', 'python', 'training']"
      ]
     },
     "execution_count": 9,
     "metadata": {},
     "output_type": "execute_result"
    }
   ],
   "source": [
    "#4. Bring out the words that start with \"t\"\n",
    "record = \"this is the time to attend python training\"\n",
    "record = record.split()\n",
    "record"
   ]
  },
  {
   "cell_type": "code",
   "execution_count": 14,
   "id": "74fbbbe8",
   "metadata": {},
   "outputs": [
    {
     "ename": "SyntaxError",
     "evalue": "invalid syntax (475986709.py, line 1)",
     "output_type": "error",
     "traceback": [
      "\u001b[1;36m  Input \u001b[1;32mIn [14]\u001b[1;36m\u001b[0m\n\u001b[1;33m    x = record(t%)\u001b[0m\n\u001b[1;37m                 ^\u001b[0m\n\u001b[1;31mSyntaxError\u001b[0m\u001b[1;31m:\u001b[0m invalid syntax\n"
     ]
    }
   ],
   "source": [
    "x = record(t%)"
   ]
  },
  {
   "cell_type": "code",
   "execution_count": 23,
   "id": "6554da94",
   "metadata": {},
   "outputs": [
    {
     "data": {
      "text/plain": [
       "'python'"
      ]
     },
     "execution_count": 23,
     "metadata": {},
     "output_type": "execute_result"
    }
   ],
   "source": [
    "#5. Bring out 'python' from the following info\n",
    "info = {'k1':[1,2,{'k2':['this is tricky',{'tough':[1,2,['python']]}]}]}\n",
    "info['k1'][2]['k2'][1]['tough'][2][0]"
   ]
  },
  {
   "cell_type": "code",
   "execution_count": null,
   "id": "cf56c6d8",
   "metadata": {},
   "outputs": [],
   "source": [
    "#6. Loops\n"
   ]
  },
  {
   "cell_type": "code",
   "execution_count": 25,
   "id": "d845652e",
   "metadata": {},
   "outputs": [
    {
     "data": {
      "text/plain": [
       "{1, 2, 3, 4, 5}"
      ]
     },
     "execution_count": 25,
     "metadata": {},
     "output_type": "execute_result"
    }
   ],
   "source": [
    "#7. Create a Unique list\n",
    "List = {1,1,1,1,2,2,3,3,3,4,5}\n",
    "List"
   ]
  },
  {
   "cell_type": "code",
   "execution_count": null,
   "id": "d0294743",
   "metadata": {},
   "outputs": [],
   "source": [
    "#8. Create a program that stores numbers"
   ]
  }
 ],
 "metadata": {
  "kernelspec": {
   "display_name": "Python 3 (ipykernel)",
   "language": "python",
   "name": "python3"
  },
  "language_info": {
   "codemirror_mode": {
    "name": "ipython",
    "version": 3
   },
   "file_extension": ".py",
   "mimetype": "text/x-python",
   "name": "python",
   "nbconvert_exporter": "python",
   "pygments_lexer": "ipython3",
   "version": "3.9.12"
  }
 },
 "nbformat": 4,
 "nbformat_minor": 5
}
