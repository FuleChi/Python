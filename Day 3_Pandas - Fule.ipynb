{
 "cells": [
  {
   "cell_type": "code",
   "execution_count": 3,
   "id": "ff2a2f1f",
   "metadata": {},
   "outputs": [],
   "source": [
    "import pandas as pd\n",
    "#Pandas (Panel data and Python data analysis)\n",
    "    #useful to clean messy data\n",
    "\n",
    "import numpy as np"
   ]
  },
  {
   "cell_type": "code",
   "execution_count": 2,
   "id": "363f07ae",
   "metadata": {},
   "outputs": [],
   "source": [
    "#Series and dataframe\n",
    "    #series: works with single column data\n",
    "    #dataframe: works with multiple column data"
   ]
  },
  {
   "cell_type": "code",
   "execution_count": 5,
   "id": "6d19dec9",
   "metadata": {},
   "outputs": [
    {
     "data": {
      "text/plain": [
       "['Ontario', 'Alberta', 'Saskatchewan']"
      ]
     },
     "execution_count": 5,
     "metadata": {},
     "output_type": "execute_result"
    }
   ],
   "source": [
    "province = ['Ontario','Alberta','Saskatchewan']\n",
    "province"
   ]
  },
  {
   "cell_type": "code",
   "execution_count": 7,
   "id": "1e0b9110",
   "metadata": {},
   "outputs": [
    {
     "data": {
      "text/plain": [
       "0         Ontario\n",
       "1         Alberta\n",
       "2    Saskatchewan\n",
       "dtype: object"
      ]
     },
     "execution_count": 7,
     "metadata": {},
     "output_type": "execute_result"
    }
   ],
   "source": [
    "#Applying Series on our data. NB. Series must start with uppercase S\n",
    "pd.Series(province)"
   ]
  },
  {
   "cell_type": "code",
   "execution_count": 8,
   "id": "ebd58a18",
   "metadata": {},
   "outputs": [],
   "source": [
    "population = [20,50,35]"
   ]
  },
  {
   "cell_type": "code",
   "execution_count": 9,
   "id": "3e9a4f6d",
   "metadata": {},
   "outputs": [
    {
     "data": {
      "text/plain": [
       "Ontario         20\n",
       "Alberta         50\n",
       "Saskatchewan    35\n",
       "dtype: int64"
      ]
     },
     "execution_count": 9,
     "metadata": {},
     "output_type": "execute_result"
    }
   ],
   "source": [
    "pd.Series(data=population, index=province)"
   ]
  },
  {
   "cell_type": "code",
   "execution_count": 10,
   "id": "c469ecf1",
   "metadata": {},
   "outputs": [
    {
     "ename": "TypeError",
     "evalue": "unsupported operand type(s) for +: 'dict' and 'dict'",
     "output_type": "error",
     "traceback": [
      "\u001b[1;31m---------------------------------------------------------------------------\u001b[0m",
      "\u001b[1;31mTypeError\u001b[0m                                 Traceback (most recent call last)",
      "Input \u001b[1;32mIn [10]\u001b[0m, in \u001b[0;36m<cell line: 3>\u001b[1;34m()\u001b[0m\n\u001b[0;32m      1\u001b[0m q1 \u001b[38;5;241m=\u001b[39m {\u001b[38;5;124m'\u001b[39m\u001b[38;5;124mCosmetics\u001b[39m\u001b[38;5;124m'\u001b[39m:\u001b[38;5;241m50\u001b[39m, \u001b[38;5;124m'\u001b[39m\u001b[38;5;124mJewellery\u001b[39m\u001b[38;5;124m'\u001b[39m:\u001b[38;5;241m40\u001b[39m, \u001b[38;5;124m'\u001b[39m\u001b[38;5;124mGames\u001b[39m\u001b[38;5;124m'\u001b[39m:\u001b[38;5;241m20\u001b[39m}\n\u001b[0;32m      2\u001b[0m q2 \u001b[38;5;241m=\u001b[39m {\u001b[38;5;124m'\u001b[39m\u001b[38;5;124mSupplies\u001b[39m\u001b[38;5;124m'\u001b[39m:\u001b[38;5;241m30\u001b[39m, \u001b[38;5;124m'\u001b[39m\u001b[38;5;124mGames\u001b[39m\u001b[38;5;124m'\u001b[39m:\u001b[38;5;241m60\u001b[39m, \u001b[38;5;124m'\u001b[39m\u001b[38;5;124mShoes\u001b[39m\u001b[38;5;124m'\u001b[39m:\u001b[38;5;241m10\u001b[39m}\n\u001b[1;32m----> 3\u001b[0m \u001b[43mq1\u001b[49m\u001b[43m \u001b[49m\u001b[38;5;241;43m+\u001b[39;49m\u001b[43m \u001b[49m\u001b[43mq2\u001b[49m\n",
      "\u001b[1;31mTypeError\u001b[0m: unsupported operand type(s) for +: 'dict' and 'dict'"
     ]
    }
   ],
   "source": [
    "q1 = {'Cosmetics':50, 'Jewellery':40, 'Games':20}\n",
    "q2 = {'Supplies':30, 'Games':60, 'Shoes':10}\n",
    "q1 + q2            #can't sum dictionary with dictionary since 'cosmetics' does not appear in q2. \n",
    "                    #To fix this, use fill_value=0 "
   ]
  },
  {
   "cell_type": "code",
   "execution_count": 13,
   "id": "4382d1f8",
   "metadata": {},
   "outputs": [
    {
     "data": {
      "text/plain": [
       "Cosmetics     NaN\n",
       "Games        80.0\n",
       "Jewellery     NaN\n",
       "Shoes         NaN\n",
       "Supplies      NaN\n",
       "dtype: float64"
      ]
     },
     "execution_count": 13,
     "metadata": {},
     "output_type": "execute_result"
    }
   ],
   "source": [
    "sales_q1 = pd.Series(q1)\n",
    "sales_q2 = pd.Series(q2)\n",
    "sales_q1 + sales_q2"
   ]
  },
  {
   "cell_type": "code",
   "execution_count": 15,
   "id": "1627ffd6",
   "metadata": {},
   "outputs": [
    {
     "data": {
      "text/plain": [
       "Cosmetics    50.0\n",
       "Games        80.0\n",
       "Jewellery    40.0\n",
       "Shoes        10.0\n",
       "Supplies     30.0\n",
       "dtype: float64"
      ]
     },
     "execution_count": 15,
     "metadata": {},
     "output_type": "execute_result"
    }
   ],
   "source": [
    "sales_q1.add(sales_q2, fill_value=0)"
   ]
  },
  {
   "cell_type": "code",
   "execution_count": null,
   "id": "0867748a",
   "metadata": {},
   "outputs": [],
   "source": []
  }
 ],
 "metadata": {
  "kernelspec": {
   "display_name": "Python 3 (ipykernel)",
   "language": "python",
   "name": "python3"
  },
  "language_info": {
   "codemirror_mode": {
    "name": "ipython",
    "version": 3
   },
   "file_extension": ".py",
   "mimetype": "text/x-python",
   "name": "python",
   "nbconvert_exporter": "python",
   "pygments_lexer": "ipython3",
   "version": "3.9.12"
  }
 },
 "nbformat": 4,
 "nbformat_minor": 5
}
