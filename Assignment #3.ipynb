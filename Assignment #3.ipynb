{
 "cells": [
  {
   "cell_type": "code",
   "execution_count": 48,
   "id": "065cd988",
   "metadata": {},
   "outputs": [],
   "source": [
    "#1. Create an array of the integers from 10 to 50\n",
    "\n",
    "import numpy as np\n",
    "import pandas as pd"
   ]
  },
  {
   "cell_type": "code",
   "execution_count": 2,
   "id": "fab3a660",
   "metadata": {},
   "outputs": [
    {
     "data": {
      "text/plain": [
       "array([10, 11, 12, 13, 14, 15, 16, 17, 18, 19, 20, 21, 22, 23, 24, 25, 26,\n",
       "       27, 28, 29, 30, 31, 32, 33, 34, 35, 36, 37, 38, 39, 40, 41, 42, 43,\n",
       "       44, 45, 46, 47, 48, 49])"
      ]
     },
     "execution_count": 2,
     "metadata": {},
     "output_type": "execute_result"
    }
   ],
   "source": [
    "np.arange(10,50)"
   ]
  },
  {
   "cell_type": "code",
   "execution_count": 4,
   "id": "a53c61fb",
   "metadata": {},
   "outputs": [
    {
     "data": {
      "text/plain": [
       "array([0, 1, 2, 3, 4, 5, 6, 7, 8])"
      ]
     },
     "execution_count": 4,
     "metadata": {},
     "output_type": "execute_result"
    }
   ],
   "source": [
    "#2. Create a 3x3 matrix with values ranging from 0 to 8\n",
    "data = np.arange(0,9)\n",
    "data"
   ]
  },
  {
   "cell_type": "code",
   "execution_count": 5,
   "id": "aedb2374",
   "metadata": {},
   "outputs": [
    {
     "data": {
      "text/plain": [
       "array([[0, 1, 2],\n",
       "       [3, 4, 5],\n",
       "       [6, 7, 8]])"
      ]
     },
     "execution_count": 5,
     "metadata": {},
     "output_type": "execute_result"
    }
   ],
   "source": [
    "data.reshape(3,3)"
   ]
  },
  {
   "cell_type": "code",
   "execution_count": 8,
   "id": "0ccc8492",
   "metadata": {},
   "outputs": [
    {
     "data": {
      "text/plain": [
       "array([0.        , 0.05263158, 0.10526316, 0.15789474, 0.21052632,\n",
       "       0.26315789, 0.31578947, 0.36842105, 0.42105263, 0.47368421,\n",
       "       0.52631579, 0.57894737, 0.63157895, 0.68421053, 0.73684211,\n",
       "       0.78947368, 0.84210526, 0.89473684, 0.94736842, 1.        ])"
      ]
     },
     "execution_count": 8,
     "metadata": {},
     "output_type": "execute_result"
    }
   ],
   "source": [
    "#3. Create an array of 20 linearly spaced points between 0 and 1, like the one below:\n",
    "        #array([0. , 0.05263158, 0.10526316, 0.15789474, 0.21052632,\n",
    "            #0.26315789, 0.31578947, 0.36842105, 0.42105263,\n",
    "            #0.47368421, 0.52631579, 0.57894737, 0.63157895, 0.68421053,\n",
    "            #0.73684211, 0.78947368, 0.84210526, 0.89473684, 0.94736842,\n",
    "            #1. ])\n",
    "            \n",
    "np.linspace(0,1,20)"
   ]
  },
  {
   "cell_type": "code",
   "execution_count": 10,
   "id": "1b738d02",
   "metadata": {},
   "outputs": [
    {
     "data": {
      "text/plain": [
       "array([[ 1,  2,  3,  4,  5],\n",
       "       [ 6,  7,  8,  9, 10],\n",
       "       [11, 12, 13, 14, 15],\n",
       "       [16, 17, 18, 19, 20],\n",
       "       [21, 22, 23, 24, 25]])"
      ]
     },
     "execution_count": 10,
     "metadata": {},
     "output_type": "execute_result"
    }
   ],
   "source": [
    "info = np.arange(1,26).reshape(5,5)\n",
    "info"
   ]
  },
  {
   "cell_type": "code",
   "execution_count": 12,
   "id": "1616603a",
   "metadata": {},
   "outputs": [
    {
     "data": {
      "text/plain": [
       "array([[12, 13, 14, 15],\n",
       "       [17, 18, 19, 20],\n",
       "       [22, 23, 24, 25]])"
      ]
     },
     "execution_count": 12,
     "metadata": {},
     "output_type": "execute_result"
    }
   ],
   "source": [
    "#4. bring out the following from data above\n",
    "        #array([[12, 13, 14, 15],\n",
    "            #[17, 18, 19, 20],\n",
    "            #[22, 23, 24, 25]])\n",
    "\n",
    "info[2:,1:]"
   ]
  },
  {
   "cell_type": "code",
   "execution_count": 17,
   "id": "ee9780fb",
   "metadata": {},
   "outputs": [
    {
     "data": {
      "text/plain": [
       "array([[ 2],\n",
       "       [ 7],\n",
       "       [12]])"
      ]
     },
     "execution_count": 17,
     "metadata": {},
     "output_type": "execute_result"
    }
   ],
   "source": [
    "#5. produce the output below from the data above\n",
    "        #array([[ 2],\n",
    "            #[ 7],\n",
    "            #[12]])\n",
    "info[0:3,1].reshape(3,1)"
   ]
  },
  {
   "cell_type": "code",
   "execution_count": 18,
   "id": "1d7409c7",
   "metadata": {},
   "outputs": [
    {
     "data": {
      "text/plain": [
       "array([21, 22, 23, 24, 25])"
      ]
     },
     "execution_count": 18,
     "metadata": {},
     "output_type": "execute_result"
    }
   ],
   "source": [
    "#6. Produce the output below from the data above\n",
    "        #array([21, 22, 23, 24, 25])\n",
    "info[4]"
   ]
  },
  {
   "cell_type": "code",
   "execution_count": 25,
   "id": "3acb2441",
   "metadata": {},
   "outputs": [
    {
     "data": {
      "text/plain": [
       "array([[ 5],\n",
       "       [10],\n",
       "       [15],\n",
       "       [20],\n",
       "       [25]])"
      ]
     },
     "execution_count": 25,
     "metadata": {},
     "output_type": "execute_result"
    }
   ],
   "source": [
    "info[0:,4].reshape(5,1)    #Bonus"
   ]
  },
  {
   "cell_type": "code",
   "execution_count": 47,
   "id": "ea67d6b9",
   "metadata": {},
   "outputs": [
    {
     "data": {
      "text/plain": [
       "array([[55],\n",
       "       [60],\n",
       "       [65],\n",
       "       [70],\n",
       "       [75]])"
      ]
     },
     "execution_count": 47,
     "metadata": {},
     "output_type": "execute_result"
    }
   ],
   "source": [
    "#7. Get the sum of all the values in the data across the rows\n",
    "\n",
    "info.sum(axis=0).reshape(5,1)"
   ]
  },
  {
   "cell_type": "code",
   "execution_count": 46,
   "id": "cd21fd18",
   "metadata": {},
   "outputs": [
    {
     "data": {
      "text/plain": [
       "array([[ 15],\n",
       "       [ 40],\n",
       "       [ 65],\n",
       "       [ 90],\n",
       "       [115]])"
      ]
     },
     "execution_count": 46,
     "metadata": {},
     "output_type": "execute_result"
    }
   ],
   "source": [
    "#8. Get the sum of all the columns in data down the columns\n",
    "\n",
    "info.sum(axis=1).reshape(5,1)   #Sum across columns"
   ]
  },
  {
   "cell_type": "code",
   "execution_count": 49,
   "id": "f2a9c3c1",
   "metadata": {},
   "outputs": [
    {
     "name": "stdout",
     "output_type": "stream",
     "text": [
      "2\n",
      "4\n",
      "6\n",
      "8\n",
      "10\n",
      "12\n",
      "14\n",
      "16\n",
      "18\n",
      "20\n",
      "22\n",
      "24\n"
     ]
    }
   ],
   "source": [
    "#9. Accept input from the user and generate a multiplication table based on the value entered by the user.\n",
    "    #Eg. If user entered 2, it should generate\n",
    "        #2x1 =2\n",
    "        #2x2-4\n",
    "        #…\n",
    "        #Up to 2 x 12 = 24\n",
    "\n",
    "x = 2        \n",
    "while x <= 24:  \n",
    "    print(x)\n",
    "    x += 2\n"
   ]
  },
  {
   "cell_type": "code",
   "execution_count": 50,
   "id": "ab20129e",
   "metadata": {},
   "outputs": [],
   "source": [
    "#10. Create a program that counts the number of vowels in a string\n",
    "\n",
    "def countvowels(string):\n",
    "    num_vowels=0\n",
    "    for char in string:\n",
    "        if char in \"aeiouAEIOU\":\n",
    "           num_vowels = num_vowels+1\n",
    "    return num_vowels"
   ]
  },
  {
   "cell_type": "code",
   "execution_count": 55,
   "id": "ee7a363f",
   "metadata": {},
   "outputs": [
    {
     "data": {
      "text/plain": [
       "6"
      ]
     },
     "execution_count": 55,
     "metadata": {},
     "output_type": "execute_result"
    }
   ],
   "source": [
    "countvowels(\"Fuleisamazing\")     #verify"
   ]
  },
  {
   "cell_type": "code",
   "execution_count": null,
   "id": "d03e2ed7",
   "metadata": {},
   "outputs": [],
   "source": []
  }
 ],
 "metadata": {
  "kernelspec": {
   "display_name": "Python 3 (ipykernel)",
   "language": "python",
   "name": "python3"
  },
  "language_info": {
   "codemirror_mode": {
    "name": "ipython",
    "version": 3
   },
   "file_extension": ".py",
   "mimetype": "text/x-python",
   "name": "python",
   "nbconvert_exporter": "python",
   "pygments_lexer": "ipython3",
   "version": "3.9.12"
  }
 },
 "nbformat": 4,
 "nbformat_minor": 5
}
